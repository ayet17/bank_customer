{
 "cells": [
  {
   "cell_type": "code",
   "execution_count": 2,
   "metadata": {},
   "outputs": [],
   "source": [
    "import os\n",
    "from dotenv import load_dotenv\n",
    "\n",
    "load_dotenv()\n",
    "HUGGINGFACEHUB_API_TOKEN = os.environ[\"HUGGINGFACEHUB_API_TOKEN\"]"
   ]
  },
  {
   "cell_type": "code",
   "execution_count": 3,
   "metadata": {},
   "outputs": [],
   "source": [
    "from getpass import getpass\n",
    "\n",
    "HUGGINGFACEHUB_API_TOKEN = getpass()"
   ]
  },
  {
   "cell_type": "code",
   "execution_count": 4,
   "metadata": {},
   "outputs": [
    {
     "name": "stderr",
     "output_type": "stream",
     "text": [
      "c:\\Users\\MSI\\AppData\\Local\\pypoetry\\Cache\\virtualenvs\\bank-customer-dQCuybCs-py3.12\\Lib\\site-packages\\tqdm\\auto.py:21: TqdmWarning: IProgress not found. Please update jupyter and ipywidgets. See https://ipywidgets.readthedocs.io/en/stable/user_install.html\n",
      "  from .autonotebook import tqdm as notebook_tqdm\n"
     ]
    }
   ],
   "source": [
    "from langchain_huggingface import ChatHuggingFace, HuggingFaceEndpoint\n",
    "\n",
    "llm = HuggingFaceEndpoint(\n",
    "    repo_id=\"HuggingFaceH4/zephyr-7b-beta\",\n",
    "    task=\"text-generation\",\n",
    "    huggingfacehub_api_token=HUGGINGFACEHUB_API_TOKEN,\n",
    "    max_new_tokens=512,\n",
    "    do_sample=False,\n",
    "    repetition_penalty=1.03,\n",
    ")\n",
    "\n",
    "chat_model = ChatHuggingFace(llm=llm)"
   ]
  },
  {
   "cell_type": "code",
   "execution_count": 5,
   "metadata": {},
   "outputs": [],
   "source": [
    "from langchain_community.embeddings import HuggingFaceBgeEmbeddings\n",
    "\n",
    "model_name = \"BAAI/bge-small-en\"\n",
    "model_kwargs = {\"device\": \"cpu\"}\n",
    "encode_kwargs = {\"normalize_embeddings\": True}\n",
    "hf = HuggingFaceBgeEmbeddings(\n",
    "    model_name=model_name, model_kwargs=model_kwargs, encode_kwargs=encode_kwargs\n",
    ")"
   ]
  },
  {
   "cell_type": "markdown",
   "metadata": {},
   "source": [
    "### Chunking"
   ]
  },
  {
   "cell_type": "code",
   "execution_count": 6,
   "metadata": {},
   "outputs": [
    {
     "data": {
      "text/plain": [
       "36"
      ]
     },
     "execution_count": 6,
     "metadata": {},
     "output_type": "execute_result"
    }
   ],
   "source": [
    "from langchain.document_loaders import PyPDFLoader\n",
    "\n",
    "loaders = [\n",
    "    PyPDFLoader(\"C:/rag/data/youth-offerings.pdf\"),\n",
    "    PyPDFLoader(\"C:/rag/data/insurance-products-and-services.pdf\"),\n",
    "    PyPDFLoader(\"C:/rag/data/loan-offerings.pdf\"),\n",
    "    PyPDFLoader(\"C:/rag/data/savings-accounts.pdf\")\n",
    "]\n",
    "\n",
    "docs = []\n",
    "for loader in loaders:\n",
    "    docs.extend(loader.load())\n",
    "len(docs)"
   ]
  },
  {
   "cell_type": "code",
   "execution_count": 7,
   "metadata": {},
   "outputs": [
    {
     "data": {
      "text/plain": [
       "42"
      ]
     },
     "execution_count": 7,
     "metadata": {},
     "output_type": "execute_result"
    }
   ],
   "source": [
    "from langchain.text_splitter import RecursiveCharacterTextSplitter\n",
    "text_splitter = RecursiveCharacterTextSplitter(\n",
    "    chunk_size = 1500,\n",
    "    chunk_overlap = 150\n",
    ")\n",
    "splits = text_splitter.split_documents(docs)\n",
    "len(splits)"
   ]
  },
  {
   "cell_type": "code",
   "execution_count": 8,
   "metadata": {},
   "outputs": [],
   "source": [
    "from langchain.vectorstores import Chroma\n",
    "persist_directory = 'docs/chroma/'\n",
    "vectordb = Chroma.from_documents(\n",
    "    documents=splits,\n",
    "    embedding=hf,\n",
    "    persist_directory=persist_directory\n",
    ")"
   ]
  },
  {
   "cell_type": "code",
   "execution_count": 9,
   "metadata": {},
   "outputs": [
    {
     "data": {
      "text/plain": [
       "3"
      ]
     },
     "execution_count": 9,
     "metadata": {},
     "output_type": "execute_result"
    }
   ],
   "source": [
    "question = \"do you have online app?\"\n",
    "docs = vectordb.similarity_search(question,k=3)\n",
    "len(docs)"
   ]
  },
  {
   "cell_type": "code",
   "execution_count": 10,
   "metadata": {},
   "outputs": [
    {
     "name": "stdout",
     "output_type": "stream",
     "text": [
      "[Document(metadata={'page': 4, 'source': 'C:/rag/data/youth-offerings.pdf'}, page_content='Youth Offerings | 5Absa Ignition Account\\nSpark your journey to financial greatness\\nBegin the journey towards the life you want to live with an \\naccount that is as youthful and ambitious as you are.\\nIf you are between the ages of 18 and 24, this account \\nis for you. It allows you to transact anywhere, anytime. It \\nwill give you transactional convenience as well as financial \\nconnectivity and this is the spark that you need to get \\nthings done.  \\nWhat you should know\\n• You will need P50 to open this account\\n• You must maintain a minimum operating balance of \\nP10\\n• You will get free SMS alerts everytime you transact \\n• This account gives you the convenience on banking \\n24/7 via your mobile and online\\n• We don’t charge you for eStatements\\n• You are guaranteed an interest of up to 1.5% if you \\nmaintain a  minimum of P50 in your account \\n• We will only charge you an affordable monthly fee \\n• We will also give you your first debit card at no cost.\\nRewards and Discounts\\nEnjoy up to 50% discounts when you swipe your debit or \\ncredit card in any of our merchant partners. \\nWhat do I need to do to open this account?\\n• Please bring a valid Omang or your passport if you are \\na non-citizen\\n• You will also need to bring proof of residential address \\nand source of funds.'), Document(metadata={'page': 6, 'source': 'C:/rag/data/insurance-products-and-services.pdf'}, page_content='Insurance Products and Services | 7Waiting periods\\n• Claims will be paid after the policy \\nhas been active for four months\\n• There is no waiting period for \\naccidental death\\n• Any lives insured while the policy is \\nalready active will have a four month \\nwaiting period\\n• Domestic workers covered in the \\npolicy will have a six month waiting \\nperiod\\n• If a policyholder chooses to change \\ntheir existing funeral product to \\nKgomotso for the same or lower \\ncover, then there is no waiting period \\nprovided the same waiting period \\nrequired by kgomotso applied at the \\nformer funeral product.How to apply\\nTo apply, visit your nearest branch and \\ncomplete the application form.\\nHow to claim\\nGo to your nearest branch with the \\nfollowing documents with you:\\n• Certified copy of death certificate\\n• Identity document of the claimant\\n• Police report if death is due to an \\naccident\\n• Complete claim form at the branch.Premiums - Policyholder, spouse and children\\nCover \\namountsP10,000 P15,000 P20,000 P25,000 P30,000 P40,000 P50,000 P60,000 Tombstone\\nP5000\\nAge 18-25 48 72 96 120 144 192 240 288 24\\nAge 26-35 67 101 134 168 200 267 334 401 34\\nAge 36-45 68 102 136 170 204 272 340 408 34\\nAge 46-55 78 117 156 195 233 311 389 467 39\\nAge 56-60 111 167 222 278 333 443 554 665 56\\nAge 61-64 132 198 265 331 397 530 663 795 66'), Document(metadata={'page': 2, 'source': 'C:/rag/data/youth-offerings.pdf'}, page_content='Youth Offerings | 3Absa youth offerings\\nOur youth offerings have been specially \\ndesigned to nurture and cater to your \\nchild’s financial needs from  birth until \\nthey are fully employed and self-sufficient. \\nThe following products are ideal at all the \\nstages of their lives.\\nAbsa FutureU Savings Account\\nGive your child a strong start\\nThis account is designed to pave the way for a bright \\nfuture for your child. With no monthly fees and competitive \\ninterest rates, the FutureU Savings account is the perfect \\nway to give your child a head start in life.\\nWhat you should know\\n• You need a minimum opening balance of P50\\n• You also need to make sure that you keep P50 \\noperating balance in the account \\n• We don’t charge a monthly maintenance fee\\n• In-branch cash and cheque deposits are free \\n• We calculate interest monthly and pay it every three \\nmonths\\n• You are allowed four free withdrawals per year, and any \\nother withdrawals after that will be charged \\n• A free debit card for safer payments\\n• Access to mobile and internet banking for convenient \\nbanking round the clock\\n• Attractive interest rates\\n• We will give you bonus interest if you do not withdraw \\nwithin a quarter.')]\n"
     ]
    }
   ],
   "source": [
    "print(docs)"
   ]
  },
  {
   "cell_type": "code",
   "execution_count": 12,
   "metadata": {},
   "outputs": [
    {
     "name": "stdout",
     "output_type": "stream",
     "text": [
      "<class 'langchain_huggingface.llms.huggingface_endpoint.HuggingFaceEndpoint'>\n"
     ]
    }
   ],
   "source": [
    "print(type(llm))"
   ]
  },
  {
   "cell_type": "markdown",
   "metadata": {},
   "source": [
    "### Generation"
   ]
  },
  {
   "cell_type": "code",
   "execution_count": 13,
   "metadata": {},
   "outputs": [
    {
     "name": "stderr",
     "output_type": "stream",
     "text": [
      "C:\\Users\\MSI\\AppData\\Local\\Temp\\ipykernel_10716\\104539818.py:17: LangChainDeprecationWarning: The method `Chain.__call__` was deprecated in langchain 0.1.0 and will be removed in 1.0. Use :meth:`~invoke` instead.\n",
      "  result = qa_chain({\"query\": question})\n"
     ]
    },
    {
     "data": {
      "text/plain": [
       "'If you forget your password for mobile banking, you can follow these steps to retrieve it:\\n\\n1. Go to the Absa Mobile Banking login page.\\n\\n2. Click on \"Forgot Password\" or \"Reset Password\" option.\\n\\n3. Enter your username or customer number and your Secure Registration Code (SRC) or your ATM card number and PIN.\\n\\n4. Follow the instructions provided to recover your password. This may involve'"
      ]
     },
     "execution_count": 13,
     "metadata": {},
     "output_type": "execute_result"
    }
   ],
   "source": [
    "from langchain.prompts import PromptTemplate\n",
    "template = \"\"\"You're Inetbank assistant, always Use the following pieces of context to answer the question at the end. If you don't know the answer, just say that you don't know, don't try to make up an answer. Use three sentences maximum. Keep the answer as concise as possible. Always say \"thanks for asking!\" at the end of the answer.\n",
    "{context}\n",
    "Question: {question}\n",
    "Helpful Answer:\"\"\"\n",
    "QA_CHAIN_PROMPT = PromptTemplate(input_variables=[\"context\", \"question\"],template=template,)\n",
    "\n",
    "# Run chain\n",
    "from langchain.chains import RetrievalQA\n",
    "question = \"What can i do if forget my password of my mobile banking?\"\n",
    "qa_chain = RetrievalQA.from_chain_type(chat_model,\n",
    "                                       retriever=vectordb.as_retriever(),\n",
    "                                       return_source_documents=True,\n",
    "                                       chain_type_kwargs={\"prompt\": QA_CHAIN_PROMPT})\n",
    "\n",
    "\n",
    "result = qa_chain({\"query\": question})\n",
    "result[\"result\"]"
   ]
  },
  {
   "cell_type": "code",
   "execution_count": null,
   "metadata": {},
   "outputs": [],
   "source": []
  },
  {
   "cell_type": "code",
   "execution_count": null,
   "metadata": {},
   "outputs": [],
   "source": []
  },
  {
   "cell_type": "code",
   "execution_count": null,
   "metadata": {},
   "outputs": [],
   "source": []
  }
 ],
 "metadata": {
  "kernelspec": {
   "display_name": "bank-customer-dQCuybCs-py3.12",
   "language": "python",
   "name": "python3"
  },
  "language_info": {
   "codemirror_mode": {
    "name": "ipython",
    "version": 3
   },
   "file_extension": ".py",
   "mimetype": "text/x-python",
   "name": "python",
   "nbconvert_exporter": "python",
   "pygments_lexer": "ipython3",
   "version": "3.12.0"
  }
 },
 "nbformat": 4,
 "nbformat_minor": 2
}
